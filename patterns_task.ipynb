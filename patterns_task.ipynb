{
 "cells": [
  {
   "cell_type": "markdown",
   "id": "f6b5e6bd",
   "metadata": {},
   "source": [
    "## Patterns"
   ]
  },
  {
   "cell_type": "markdown",
   "id": "b8b649c7",
   "metadata": {},
   "source": [
    "* Patterns can be printed in python using simple for loops. First outer loop is used to handle the number of rows and the Inner nested loop is used to handle the number of columns. Manipulating the print statements, different number patterns, alphabet patterns, or star patterns can be printed. "
   ]
  },
  {
   "cell_type": "code",
   "execution_count": 68,
   "id": "e238c387",
   "metadata": {},
   "outputs": [
    {
     "name": "stdout",
     "output_type": "stream",
     "text": [
      "* \n",
      "* * \n",
      "* * * \n",
      "* * * * \n",
      "* * * * * \n"
     ]
    }
   ],
   "source": [
    "r=5\n",
    "for i in range(1, r+1):\n",
    "    for j in range(i):\n",
    "        print(\"*\", end=\" \")\n",
    "    print( )"
   ]
  },
  {
   "cell_type": "code",
   "execution_count": 71,
   "id": "d5d58b63",
   "metadata": {},
   "outputs": [
    {
     "name": "stdout",
     "output_type": "stream",
     "text": [
      "    *\n",
      "   ***\n",
      "  *****\n",
      " *******\n",
      "*********\n"
     ]
    }
   ],
   "source": [
    "def fooPattern(n):\n",
    "    for i in range(0, n):\n",
    "        for j in range(0, n-i-1):\n",
    "            print(end = \" \")\n",
    "        for j in range(0, 2*i+1):\n",
    "            print(\"*\", end = \"\")\n",
    "        print()\n",
    "        \n",
    "fooPattern(5)"
   ]
  },
  {
   "cell_type": "code",
   "execution_count": 44,
   "id": "252f766b",
   "metadata": {},
   "outputs": [
    {
     "name": "stdout",
     "output_type": "stream",
     "text": [
      "* * * * * * * * * \n",
      "  * * * * * * * \n",
      "    * * * * * \n",
      "      * * * \n",
      "        * \n"
     ]
    }
   ],
   "source": [
    "def fooPattern(n):\n",
    "    for i in range(n):\n",
    "        for j in range(i):\n",
    "            print(' ', end=' ')\n",
    "        for j in range((n-i)*2-1):\n",
    "            print('*', end=' ')\n",
    "        print()\n",
    "        \n",
    "fooPattern(5)"
   ]
  },
  {
   "cell_type": "code",
   "execution_count": 85,
   "id": "b08b8e7f",
   "metadata": {},
   "outputs": [
    {
     "name": "stdout",
     "output_type": "stream",
     "text": [
      "*     *\n",
      "**   **\n",
      "* * * *\n",
      "*  *  *\n",
      "*     *\n",
      "*     *\n",
      "*     *\n"
     ]
    }
   ],
   "source": [
    "def fooPattern(n):\n",
    "    for i in range(0,n):\n",
    "        for j in range(0,n):\n",
    "            if j==0 or j==6 or ((i==j) and (j>0 and j<4)) or (i==1 and j==5) or (i==2 and j==4):\n",
    "                print(\"*\", end=\"\")\n",
    "            else:\n",
    "                print(end=\" \")\n",
    "        print()\n",
    "        \n",
    "fooPattern(7)"
   ]
  },
  {
   "cell_type": "code",
   "execution_count": 73,
   "id": "c187dbbb",
   "metadata": {},
   "outputs": [
    {
     "name": "stdout",
     "output_type": "stream",
     "text": [
      "0 1 2 3 4 \n",
      "0 1 2 3 \n",
      "0 1 2 \n",
      "0 1 \n",
      "0 \n"
     ]
    }
   ],
   "source": [
    "def fooPattern(r):\n",
    "    for i in range(5,0, -1):\n",
    "        for j in range(i):\n",
    "            print(j, end=\" \")\n",
    "        print( )\n",
    "        \n",
    "fooPattern(5)"
   ]
  },
  {
   "cell_type": "code",
   "execution_count": 72,
   "id": "70e75c37",
   "metadata": {},
   "outputs": [
    {
     "name": "stdout",
     "output_type": "stream",
     "text": [
      "5 5 5 5 5 \n",
      "4 4 4 4 \n",
      "3 3 3 \n",
      "2 2 \n",
      "1 \n"
     ]
    }
   ],
   "source": [
    "def fooPattern(r):\n",
    "    for i in range(5,0, -1):\n",
    "        for j in range(i):\n",
    "            print(i, end=\" \")\n",
    "        print( )\n",
    "        \n",
    "fooPattern(5)"
   ]
  },
  {
   "cell_type": "code",
   "execution_count": 76,
   "id": "c34d944f",
   "metadata": {},
   "outputs": [
    {
     "name": "stdout",
     "output_type": "stream",
     "text": [
      "          0 \n",
      "        0 1 \n",
      "      0 1 2 \n",
      "    0 1 2 3 \n",
      "  0 1 2 3 4 \n"
     ]
    }
   ],
   "source": [
    "def fooPattern(n):\n",
    "    for i in range(n):\n",
    "        for j in range(i,n):\n",
    "            print(' ',end=' ')\n",
    "        for j in range(i+1):\n",
    "            print(j,end=' ')\n",
    "        print()\n",
    "        \n",
    "fooPattern(5)"
   ]
  },
  {
   "cell_type": "code",
   "execution_count": 80,
   "id": "66fb75ee",
   "metadata": {},
   "outputs": [
    {
     "name": "stdout",
     "output_type": "stream",
     "text": [
      "            0 \n",
      "          1 1 \n",
      "        2 2 2 \n",
      "      3 3 3 3 \n",
      "    4 4 4 4 4 \n",
      "  5 5 5 5 5 5 \n"
     ]
    }
   ],
   "source": [
    "def fooPattern(n):\n",
    "    for i in range(0,n):\n",
    "        for j in range(i,n):\n",
    "            print(' ',end=' ')\n",
    "        for j in range(i+1):\n",
    "            print(i,end=' ')\n",
    "        print()\n",
    "        \n",
    "fooPattern(6)"
   ]
  },
  {
   "cell_type": "code",
   "execution_count": 57,
   "id": "86289593",
   "metadata": {},
   "outputs": [
    {
     "name": "stdout",
     "output_type": "stream",
     "text": [
      "* * * * * * * * * \n",
      "  * * * * * * * \n",
      "    * * * * * \n",
      "      * * * \n",
      "        * \n",
      "      * * * \n",
      "    * * * * * \n",
      "  * * * * * * * \n",
      "* * * * * * * * * \n"
     ]
    }
   ],
   "source": [
    "def fooPattern(n):\n",
    "    for i in range(n):\n",
    "        for j in range(i):\n",
    "            print(' ', end=' ')\n",
    "        for j in range((n-i)*2-1):\n",
    "            print('*', end=' ')\n",
    "        print()\n",
    "    for i in range(1, n):\n",
    "        for j in range(n-i-1):\n",
    "            print(' ', end=' ')\n",
    "        for j in range(i*2+1):\n",
    "            print('*', end=' ')\n",
    "        print()\n",
    "        \n",
    "        \n",
    "fooPattern(5)"
   ]
  },
  {
   "cell_type": "code",
   "execution_count": 62,
   "id": "9eb1be4f",
   "metadata": {},
   "outputs": [
    {
     "name": "stdout",
     "output_type": "stream",
     "text": [
      "    * * * * * \n",
      "   * * * * * \n",
      "  * * * * * \n",
      " * * * * * \n",
      "* * * * * \n"
     ]
    }
   ],
   "source": [
    "def fooPattern(n):\n",
    "    for i in range(n):\n",
    "        for j in range(n - i - 1):\n",
    "            print(\" \", end=\"\")\n",
    "        for j in range(n):\n",
    "            print(\"*\", end=\" \")\n",
    "        print()\n",
    "\n",
    "fooPattern(5) "
   ]
  },
  {
   "cell_type": "code",
   "execution_count": 65,
   "id": "3356f11a",
   "metadata": {},
   "outputs": [
    {
     "name": "stdout",
     "output_type": "stream",
     "text": [
      "  0 1 2 3 0 1 2 3 4 \n",
      "    0 1 2 0 1 2 3 \n",
      "      0 1 0 1 2 \n",
      "        0 0 1 \n",
      "          0 \n",
      "          0 \n",
      "        0 0 1 \n",
      "      0 1 0 1 2 \n",
      "    0 1 2 0 1 2 3 \n",
      "  0 1 2 3 0 1 2 3 4 \n"
     ]
    }
   ],
   "source": [
    "def fooPattern(n):\n",
    "    for i in range(n-1,-1,-1):\n",
    "        for j in range(i,n):\n",
    "            print(' ',end=' ')\n",
    "        for j in range(i):\n",
    "            print(j,end=' ')\n",
    "        for j in range(i+1):\n",
    "            print(j,end=' ')\n",
    "        print()\n",
    "    for i in range(n):\n",
    "        for j in range(i,n):\n",
    "            print(' ',end=' ')\n",
    "        for j in range(i):\n",
    "            print(j,end=' ')\n",
    "        for j in range(i+1):\n",
    "            print(j,end=' ')\n",
    "        print()\n",
    "        \n",
    "fooPattern(5)"
   ]
  },
  {
   "cell_type": "code",
   "execution_count": 66,
   "id": "43be6e64",
   "metadata": {},
   "outputs": [
    {
     "name": "stdout",
     "output_type": "stream",
     "text": [
      "A B C D E \n",
      "  A B C D \n",
      "    A B C \n",
      "      A B \n",
      "        A \n"
     ]
    }
   ],
   "source": [
    "def fooPattern(n:str):\n",
    "    start_char = ord('A')\n",
    "    for row in range(n, 0, -1):\n",
    "        for _ in range(n - row):\n",
    "            print(\" \", end=\" \")\n",
    "        for col in range(start_char, start_char + row):\n",
    "            print(chr(col), end=\" \")\n",
    "        print()\n",
    "\n",
    "fooPattern(5)\n"
   ]
  },
  {
   "cell_type": "code",
   "execution_count": 83,
   "id": "7e589447",
   "metadata": {},
   "outputs": [
    {
     "name": "stdout",
     "output_type": "stream",
     "text": [
      "A \n",
      "A B \n",
      "A B C \n",
      "A B C D \n",
      "A B C D E \n"
     ]
    }
   ],
   "source": [
    "def fooPattern(str):\n",
    "    length = len(str)\n",
    "    for i in range(length):\n",
    "        for j in range(i+1):\n",
    "            print(str[j], end = \" \")\n",
    "        print()\n",
    "\n",
    "fooPattern(\"ABCDE\")"
   ]
  },
  {
   "cell_type": "code",
   "execution_count": null,
   "id": "fb555dc7",
   "metadata": {},
   "outputs": [],
   "source": []
  }
 ],
 "metadata": {
  "kernelspec": {
   "display_name": "Python 3 (ipykernel)",
   "language": "python",
   "name": "python3"
  },
  "language_info": {
   "codemirror_mode": {
    "name": "ipython",
    "version": 3
   },
   "file_extension": ".py",
   "mimetype": "text/x-python",
   "name": "python",
   "nbconvert_exporter": "python",
   "pygments_lexer": "ipython3",
   "version": "3.11.5"
  }
 },
 "nbformat": 4,
 "nbformat_minor": 5
}
